{
  "nbformat": 4,
  "nbformat_minor": 0,
  "metadata": {
    "colab": {
      "provenance": []
    },
    "kernelspec": {
      "name": "python3",
      "display_name": "Python 3"
    },
    "language_info": {
      "name": "python"
    }
  },
  "cells": [
    {
      "cell_type": "markdown",
      "source": [
        "Create a list of five fruits and print using a loop"
      ],
      "metadata": {
        "id": "rlwBVDYB9lsD"
      }
    },
    {
      "cell_type": "code",
      "source": [
        "fruits=[\"apple\",\"banana\",\"cherry\",\"orange\",\"pineapple\"]\n",
        "for fruit in fruits:\n",
        "    print(fruit)"
      ],
      "metadata": {
        "colab": {
          "base_uri": "https://localhost:8080/"
        },
        "id": "XpqAPeZ7-NM8",
        "outputId": "8873da40-1e2a-48b6-fc51-9c9103b1da02"
      },
      "execution_count": null,
      "outputs": [
        {
          "output_type": "stream",
          "name": "stdout",
          "text": [
            "apple\n",
            "banana\n",
            "cherry\n",
            "orange\n",
            "pineapple\n"
          ]
        }
      ]
    },
    {
      "cell_type": "markdown",
      "source": [
        "Tuple of three items name,age and city"
      ],
      "metadata": {
        "id": "cfZya9_u-MoN"
      }
    },
    {
      "cell_type": "code",
      "source": [
        "info=(\"Ali\",14,\"Gujranwala\")\n",
        "print(\"name:\",info[0])\n",
        "print(\"age:\",info[1])\n",
        "print(\"city\",info[2])"
      ],
      "metadata": {
        "colab": {
          "base_uri": "https://localhost:8080/"
        },
        "id": "hnRwPCDoAH3d",
        "outputId": "1e4c6b02-a0a9-4452-8ed9-be87df262784"
      },
      "execution_count": null,
      "outputs": [
        {
          "output_type": "stream",
          "name": "stdout",
          "text": [
            "name: Ali\n",
            "age: 14\n",
            "city Gujranwala\n"
          ]
        }
      ]
    },
    {
      "cell_type": "markdown",
      "source": [
        "Dictionary with student name,class and score"
      ],
      "metadata": {
        "id": "lv6I90C4ChPK"
      }
    },
    {
      "cell_type": "code",
      "source": [
        "student={\"name\":\"Ali\",\"class\":\"9th\",\"score\":56}\n",
        "print(\"Keys:\",student.keys())\n",
        "print(\"Values:\",student.values())"
      ],
      "metadata": {
        "colab": {
          "base_uri": "https://localhost:8080/"
        },
        "id": "TqKdkvyvCvZF",
        "outputId": "0929f196-e847-4400-b331-ce8b3197f26c"
      },
      "execution_count": null,
      "outputs": [
        {
          "output_type": "stream",
          "name": "stdout",
          "text": [
            "Keys: dict_keys(['name', 'class', 'score'])\n",
            "Values: dict_values(['Ali', '9th', 56])\n"
          ]
        }
      ]
    },
    {
      "cell_type": "markdown",
      "source": [
        "Update the list by adding or removing items"
      ],
      "metadata": {
        "id": "iRDf0NuFEv_R"
      }
    },
    {
      "cell_type": "code",
      "source": [
        "items=[\"Gun\",\"Bat\",\"Boll\"]\n",
        "items.append(\"pen\")\n",
        "items.remove(\"Gun\")\n",
        "print(\"updated List:\",items)"
      ],
      "metadata": {
        "colab": {
          "base_uri": "https://localhost:8080/"
        },
        "id": "38xu3n15E4-o",
        "outputId": "4f534567-afc4-49f8-f694-be03cc92b4b1"
      },
      "execution_count": null,
      "outputs": [
        {
          "output_type": "stream",
          "name": "stdout",
          "text": [
            "updated List: ['Bat', 'Boll', 'pen']\n"
          ]
        }
      ]
    },
    {
      "cell_type": "markdown",
      "source": [
        "Use a loop for count in list and print len()"
      ],
      "metadata": {
        "id": "kl2xHLoMICzK"
      }
    },
    {
      "cell_type": "code",
      "source": [
        "fruits=(\"apple\",\"banana\",\"orange\")\n",
        "count=0\n",
        "for f in fruits:\n",
        "  count+=1\n",
        "print(\"using a loop\",count)\n",
        "print(\"using a len()\",count)\n",
        "\n"
      ],
      "metadata": {
        "colab": {
          "base_uri": "https://localhost:8080/"
        },
        "id": "T02q_IqgISum",
        "outputId": "e785ceeb-1130-4eb7-bbde-0c024b66b07f"
      },
      "execution_count": null,
      "outputs": [
        {
          "output_type": "stream",
          "name": "stdout",
          "text": [
            "using a loop 3\n",
            "using a len() 3\n"
          ]
        }
      ]
    },
    {
      "cell_type": "markdown",
      "source": [
        "Check if a value exist in tuple"
      ],
      "metadata": {
        "id": "MnI3GDIGJVQr"
      }
    },
    {
      "cell_type": "code",
      "source": [
        "tuple=(\"Ali\",\"sidhu\",\"husnain\")\n",
        "if \"Ali\" in tuple:\n",
        "  print(\"Ali exist in tuple\")"
      ],
      "metadata": {
        "colab": {
          "base_uri": "https://localhost:8080/"
        },
        "id": "vPKuu6zPJbKy",
        "outputId": "a6544c3e-74f3-4a18-90d2-02c02f3ddfb9"
      },
      "execution_count": null,
      "outputs": [
        {
          "output_type": "stream",
          "name": "stdout",
          "text": [
            "Ali exist in tuple\n"
          ]
        }
      ]
    },
    {
      "cell_type": "code",
      "source": [
        "del tuple"
      ],
      "metadata": {
        "id": "1Hjip0i3OWMk"
      },
      "execution_count": null,
      "outputs": []
    },
    {
      "cell_type": "markdown",
      "source": [
        "Convert a list to tuple"
      ],
      "metadata": {
        "id": "p3WuXDCmPKPS"
      }
    },
    {
      "cell_type": "code",
      "source": [
        "my_list = [1, 2, 3, 4]\n",
        "my_tuple = tuple(my_list)\n",
        "\n",
        "print(\"List:\", my_list)\n",
        "print(\"Tuple:\", my_tuple)"
      ],
      "metadata": {
        "colab": {
          "base_uri": "https://localhost:8080/"
        },
        "id": "XZIA1912LtHu",
        "outputId": "2d603920-4cfd-4e4d-fe18-ec70aa2fff50"
      },
      "execution_count": null,
      "outputs": [
        {
          "output_type": "stream",
          "name": "stdout",
          "text": [
            "List: [1, 2, 3, 4]\n",
            "Tuple: (1, 2, 3, 4)\n"
          ]
        }
      ]
    },
    {
      "cell_type": "markdown",
      "source": [
        "Dictionary of three students,print name who score>80"
      ],
      "metadata": {
        "id": "Pk8P16T8PsAv"
      }
    },
    {
      "cell_type": "code",
      "source": [
        "marks={\"Ali\":99,\"sidhu\":100,\"husnain\":98}\n",
        "for name,score in marks.items():\n",
        "   if score > 80:\n",
        "    print(\"name\",\"score >80\")"
      ],
      "metadata": {
        "colab": {
          "base_uri": "https://localhost:8080/"
        },
        "id": "NCZ3ViRMPIgm",
        "outputId": "2c83f4e4-99c9-4589-ce1e-27eab88332d3"
      },
      "execution_count": null,
      "outputs": [
        {
          "output_type": "stream",
          "name": "stdout",
          "text": [
            "name score >80\n",
            "name score >80\n",
            "name score >80\n"
          ]
        }
      ]
    },
    {
      "cell_type": "markdown",
      "source": [
        "Tuple of mixed data,print type of each item"
      ],
      "metadata": {
        "id": "xwLId99pRHRc"
      }
    },
    {
      "cell_type": "code",
      "source": [
        "tuple=(\"apple\",56,56.7,True)\n",
        "for item in tuple:\n",
        "  print(\"type of\",item,\"is\",type(item))"
      ],
      "metadata": {
        "colab": {
          "base_uri": "https://localhost:8080/"
        },
        "id": "4ZqPZEr8PIiP",
        "outputId": "13777004-32d2-4f0d-9756-04aa08106ddb"
      },
      "execution_count": null,
      "outputs": [
        {
          "output_type": "stream",
          "name": "stdout",
          "text": [
            "type of apple is <class 'str'>\n",
            "type of 56 is <class 'int'>\n",
            "type of 56.7 is <class 'float'>\n",
            "type of True is <class 'bool'>\n"
          ]
        }
      ]
    }
  ]
}